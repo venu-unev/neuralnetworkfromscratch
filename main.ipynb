{
 "cells": [
  {
   "cell_type": "code",
   "execution_count": 0,
   "metadata": {
    "id": "LS-JvGLPDUe2",
    "colab_type": "code",
    "colab": {}
   },
   "outputs": [],
   "source": [
    "import keras\n",
    "from keras.models import Sequential\n",
    "from keras.layers import Dense\n",
    "import numpy as np\n",
    "from sklearn.model_selection import train_test_split\n",
    "\n",
    "def load_mnist(path, kind='train'):\n",
    "    import os\n",
    "    import gzip\n",
    "    import numpy as np\n",
    "\n",
    "    \"\"\"Load MNIST data from `path`\"\"\"\n",
    "    labels_path = os.path.join('%s-labels-idx1-ubyte.gz'% kind)\n",
    "    images_path = os.path.join('%s-images-idx3-ubyte.gz'% kind)\n",
    "\n",
    "    with gzip.open(labels_path, 'rb') as lbpath:\n",
    "        labels = np.frombuffer(lbpath.read(), dtype=np.uint8,\n",
    "                               offset=8)\n",
    "\n",
    "    with gzip.open(images_path, 'rb') as imgpath:\n",
    "        images = np.frombuffer(imgpath.read(), dtype=np.uint8,\n",
    "                               offset=16).reshape(len(labels), 784)\n",
    "\n",
    "    return images, labels"
   ]
  },
  {
   "cell_type": "code",
   "execution_count": 4,
   "metadata": {
    "id": "AjDCNhDzDW95",
    "colab_type": "code",
    "outputId": "6b41841d-6ec1-4f96-92e2-17102667c823",
    "colab": {
     "base_uri": "https://localhost:8080/",
     "height": 202.0
    }
   },
   "outputs": [
    {
     "name": "stdout",
     "output_type": "stream",
     "text": [
      "train_images: (60000, 784)\n",
      "train_images: (60000,)\n",
      "test_images: (5000, 784)\n",
      "test_images: (5000,)\n",
      "[[0. 0. 0. ... 0. 0. 1.]\n",
      " [1. 0. 0. ... 0. 0. 0.]\n",
      " [1. 0. 0. ... 0. 0. 0.]\n",
      " ...\n",
      " [0. 0. 0. ... 0. 0. 0.]\n",
      " [1. 0. 0. ... 0. 0. 0.]\n",
      " [0. 0. 0. ... 0. 0. 0.]]\n"
     ]
    }
   ],
   "source": [
    "# Read Fashion MNIST dataset\n",
    "\n",
    "X_train, y_train =load_mnist('data/fashion', kind='train')\n",
    "X_test, y_test = load_mnist('data/fashion', kind='t10k')\n",
    "\n",
    "# Pre-Processing\n",
    "\n",
    "X_test, X_val = train_test_split(X_test, test_size=0.5, random_state = 2)\n",
    "y_test,y_val = train_test_split(y_test, test_size=0.5, random_state = 2)\n",
    "\n",
    "Y_train = y_val\n",
    "Y_val = y_val\n",
    "Y_test = y_test\n",
    "\n",
    "X_test = X_test/255\n",
    "X_train = X_train/255\n",
    "X_val = X_val/255\n",
    "\n",
    "print(\"train_images:\", X_train.shape)\n",
    "print(\"train_images:\", y_train.shape)\n",
    "print(\"test_images:\", X_test.shape)\n",
    "print(\"test_images:\", y_test.shape)\n",
    "\n",
    "# One hot encoding the labeled data\n",
    "\n",
    "num_classes = 10\n",
    "y_train = keras.utils.to_categorical(y_train, num_classes)\n",
    "y_test = keras.utils.to_categorical(y_test, num_classes)\n",
    "y_val = keras.utils.to_categorical(y_val, num_classes)\n",
    "print(y_train)"
   ]
  },
  {
   "cell_type": "code",
   "execution_count": 0,
   "metadata": {
    "id": "K_5AUbUkDyie",
    "colab_type": "code",
    "colab": {}
   },
   "outputs": [],
   "source": [
    "# One Hidden Layer Neural Network from Scratch\n",
    "\n",
    "def sigmoid(s):\n",
    "    return 1/(1 + np.exp(-s))\n",
    "\n",
    "def sigmoid_derv(s):\n",
    "    return s * (1 - s)\n",
    "\n",
    "def softmax(s):\n",
    "    exps = np.exp(s - np.max(s, axis=1, keepdims=True))\n",
    "    return exps/np.sum(exps, axis=1, keepdims=True)\n",
    "\n",
    "def derivate_cross_entropy(pred, real):\n",
    "    n_samples = real.shape[0]\n",
    "    res = pred - real\n",
    "    return res/n_samples\n",
    "\n",
    "def cross_entropy(pred, real):\n",
    "    n = real.shape[0]\n",
    "    logp = - np.log(pred[np.arange(n), real.argmax(axis=1)])\n",
    "    loss = np.sum(logp)/n\n",
    "    return loss"
   ]
  },
  {
   "cell_type": "code",
   "execution_count": 0,
   "metadata": {
    "id": "W8eujDMcDctp",
    "colab_type": "code",
    "colab": {}
   },
   "outputs": [],
   "source": [
    "class MyNN:\n",
    "    def __init__(self, x, y, lr):\n",
    "        self.x = x\n",
    "        neurons = 400\n",
    "        self.lr = lr\n",
    "        ip_dim = x.shape[1]\n",
    "        op_dim = y.shape[1]\n",
    "\n",
    "        self.w1 = np.random.randn(ip_dim, neurons)\n",
    "        self.b1 = np.zeros((1, neurons))\n",
    "        self.w2 = np.random.randn(neurons, op_dim)\n",
    "        self.b2 = np.zeros((1, op_dim))\n",
    "        \n",
    "        self.y = y\n",
    "\n",
    "    def feedforward(self):\n",
    "        z1 = np.dot(self.x, self.w1) + self.b1\n",
    "        self.a1 = sigmoid(z1)\n",
    "        \n",
    "        z2 = np.dot(self.a1, self.w2) + self.b2\n",
    "        self.a2 = softmax(z2)\n",
    "        \n",
    "    def backprop(self):\n",
    "        loss = cross_entropy(self.a2, self.y)\n",
    "        #print('Error :', loss)\n",
    "        \n",
    "\n",
    "\n",
    "        w2_der = np.dot(self.a1.T, derivate_cross_entropy(self.a2, self.y))\n",
    "        \n",
    "        w1_der = np.dot(self.x.T, (np.dot(derivate_cross_entropy(self.a2, self.y), self.w2.T) * sigmoid_derv(self.a1)))\n",
    "\n",
    "      \n",
    "\n",
    "        self.w1 -= self.lr * w1_der\n",
    "        self.b2 -= self.lr*np.sum(derivate_cross_entropy(self.a2, self.y), axis=0)\n",
    "        self.w2 -= self.lr * w2_der\n",
    "        self.b1 -= self.lr*np.sum((np.dot(derivate_cross_entropy(self.a2, self.y), self.w2.T) * sigmoid_derv(self.a1)), axis=0)\n",
    "        return loss\n",
    "\n",
    "    def predict(self, data):\n",
    "        self.x = data\n",
    "        #print(self.x)\n",
    "        self.feedforward()\n",
    "        return self.a2.argmax()"
   ]
  },
  {
   "cell_type": "code",
   "execution_count": 7,
   "metadata": {
    "id": "tOMBi9vBD-Xw",
    "colab_type": "code",
    "outputId": "92a3d6e4-6313-4228-e249-32b985faba43",
    "colab": {
     "base_uri": "https://localhost:8080/",
     "height": 34.0
    }
   },
   "outputs": [
    {
     "name": "stdout",
     "output_type": "stream",
     "text": [
      "1000\n"
     ]
    }
   ],
   "source": [
    "# Training the model \n",
    "\n",
    "model = MyNN(X_train, np.array(y_train), 1)\n",
    "x = [1000]\n",
    "losses=[]\n",
    "acc=[]\n",
    "for i in range(len(x)):\n",
    "  for epoch in range(x[i]):\n",
    "    model.feedforward()\n",
    "    losses.append(model.backprop())\n",
    "print(len(losses))"
   ]
  },
  {
   "cell_type": "code",
   "execution_count": 9,
   "metadata": {
    "id": "F16AllJVpUae",
    "colab_type": "code",
    "outputId": "ca002d24-7515-42d4-ae88-503fafb8266b",
    "colab": {
     "base_uri": "https://localhost:8080/",
     "height": 312.0
    }
   },
   "outputs": [
    {
     "data": {
      "text/plain": [
       "Text(0, 0.5, 'Loss')"
      ]
     },
     "execution_count": 9,
     "metadata": {
      "tags": []
     },
     "output_type": "execute_result"
    },
    {
     "data": {
      "image/png": "[encoded data removed]",
      "text/plain": [
       "<Figure size 432x288 with 1 Axes>"
      ]
     },
     "metadata": {
      "tags": []
     },
     "output_type": "display_data"
    }
   ],
   "source": [
    "import matplotlib.pyplot as plt\n",
    "\n",
    "plt.plot(losses)\n",
    "plt.title('Loss')\n",
    "plt.xlabel('Epochs')\n",
    "plt.ylabel('Loss')"
   ]
  },
  {
   "cell_type": "code",
   "execution_count": 10,
   "metadata": {
    "id": "O5VRo7sYEBlv",
    "colab_type": "code",
    "outputId": "a01292eb-b32b-4b0e-8016-683b507609c7",
    "colab": {
     "base_uri": "https://localhost:8080/",
     "height": 50.0
    }
   },
   "outputs": [
    {
     "name": "stdout",
     "output_type": "stream",
     "text": [
      "Test accuracy :  79.80000000000001\n",
      "5000\n"
     ]
    }
   ],
   "source": [
    "# Getting Accuracy\n",
    "output =[]\n",
    "def get_acc(x, y):\n",
    "    \n",
    "    acc = 0\n",
    "    for xx,yy in zip(x, y):\n",
    "        s = model.predict(xx)\n",
    "        output.append(s)\n",
    "        if s == np.argmax(yy):\n",
    "            acc +=1\n",
    "    return acc/len(x)*100\n",
    "\n",
    "#print(\"Training accuracy : \", get_acc(X_train, np.array(y_train)))\n",
    "#print(\"Validation accuracy : \", get_acc(X_val, np.array(y_val)))\n",
    "print(\"Test accuracy : \", get_acc(X_test, np.array(y_test)))\n",
    "print(len(output))"
   ]
  },
  {
   "cell_type": "code",
   "execution_count": 11,
   "metadata": {
    "id": "NloSld0brA_6",
    "colab_type": "code",
    "outputId": "b172f32e-0fde-42b5-9fdb-9fe393e717a2",
    "colab": {
     "base_uri": "https://localhost:8080/",
     "height": 470.0
    }
   },
   "outputs": [
    {
     "name": "stdout",
     "output_type": "stream",
     "text": [
      "[[276   8   2  39   0   3 164   0   5   0]\n",
      " [  0 483   0  15   2   0   7   0   2   0]\n",
      " [  5   5 230  19  93   0 151   0   1   1]\n",
      " [  3   5   0 429  11   0  35   1   2   0]\n",
      " [  0   1  11  19 366   2  96   0   3   0]\n",
      " [  1   1   0   0   0 447   0  28   5   9]\n",
      " [ 24   1  22  28  43   0 385   0  14   0]\n",
      " [  0   0   0   0   0  17   0 447   2  26]\n",
      " [  0   1   0   7   6   4  18   2 458   0]\n",
      " [  0   0   0   1   0   8   0  31   0 469]]\n",
      "              precision    recall  f1-score   support\n",
      "\n",
      "           0       0.89      0.56      0.68       497\n",
      "           1       0.96      0.95      0.95       509\n",
      "           2       0.87      0.46      0.60       505\n",
      "           3       0.77      0.88      0.82       486\n",
      "           4       0.70      0.73      0.72       498\n",
      "           5       0.93      0.91      0.92       491\n",
      "           6       0.45      0.74      0.56       517\n",
      "           7       0.88      0.91      0.89       492\n",
      "           8       0.93      0.92      0.93       496\n",
      "           9       0.93      0.92      0.93       509\n",
      "\n",
      "    accuracy                           0.80      5000\n",
      "   macro avg       0.83      0.80      0.80      5000\n",
      "weighted avg       0.83      0.80      0.80      5000\n",
      "\n"
     ]
    }
   ],
   "source": [
    "from sklearn.metrics import confusion_matrix\n",
    "from sklearn.metrics import classification_report\n",
    "print(confusion_matrix(Y_test, output))\n",
    "print(classification_report(Y_test, output))"
   ]
  },
  {
   "cell_type": "code",
   "execution_count": 0,
   "metadata": {
    "id": "138oTb-An0BJ",
    "colab_type": "code",
    "colab": {}
   },
   "outputs": [],
   "source": [
    "import matplotlib.pyplot as plt\n",
    "from keras.callbacks import History\n",
    "\n",
    "def plot_history(history):\n",
    "  \n",
    "  loss_values = [s for s in history.history.keys() if 'loss' in s and 'val' not in s]\n",
    "  val_loss_values = [s for s in history.history.keys() if 'loss' in s and 'val' in s]\n",
    "  acc_values = [s for s in history.history.keys() if 'acc' in s and 'val' not in s]\n",
    "  val_acc_values = [s for s in history.history.keys() if 'acc' in s and 'val' in s]\n",
    "  \n",
    "  if len(loss_values) == 0:\n",
    "    print(\"Incomplete Data\")\n",
    "    return\n",
    "  \n",
    "  no_epochs = range(1, len(history.history[loss_values[0]]) + 1)\n",
    "  plt.figure(1)\n",
    "  for l in loss_values:\n",
    "    plt.plot(no_epochs, history.history[l], 'b', label = 'Training loss')\n",
    "  for l in val_loss_values:\n",
    "    plt.plot(no_epochs, history.history[l], 'g', label = 'Validation loss')\n",
    "    \n",
    "  plt.title('Loss')\n",
    "  plt.xlabel('Epochs')\n",
    "  plt.ylabel('Loss')\n",
    "  plt.legend()\n",
    "  \n",
    "  plt.figure(2)  \n",
    "  for l in acc_values:\n",
    "    plt.plot(no_epochs, history.history[l], 'b', label = 'Training accuracy')\n",
    "  for l in val_acc_values:\n",
    "    plt.plot(no_epochs, history.history[l], 'g', label = 'Validation Accuracy')\n",
    "    \n",
    "  plt.title('Accuracy')\n",
    "  plt.xlabel('Epochs')\n",
    "  plt.ylabel('Accuracy')\n",
    "  plt.legend()\n",
    "  plt.tight_layout()\n",
    "  plt.show()\n",
    " "
   ]
  },
  {
   "cell_type": "code",
   "execution_count": 23,
   "metadata": {
    "id": "WqH8q-wISldK",
    "colab_type": "code",
    "outputId": "d2bc20c8-c088-4bfb-b4ce-7f732781eed0",
    "colab": {
     "base_uri": "https://localhost:8080/",
     "height": 890.0
    }
   },
   "outputs": [
    {
     "name": "stdout",
     "output_type": "stream",
     "text": [
      "Train on 60000 samples, validate on 5000 samples\n",
      "Epoch 1/15\n",
      "60000/60000 [==============================] - 23s 384us/step - loss: 1.4756 - acc: 0.3996 - val_loss: 0.8768 - val_acc: 0.6150\n",
      "Epoch 2/15\n",
      "60000/60000 [==============================] - 21s 351us/step - loss: 0.7748 - acc: 0.6991 - val_loss: 0.6835 - val_acc: 0.7422\n",
      "Epoch 3/15\n",
      "60000/60000 [==============================] - 21s 344us/step - loss: 0.6184 - acc: 0.7706 - val_loss: 0.6306 - val_acc: 0.7690\n",
      "Epoch 4/15\n",
      "60000/60000 [==============================] - 22s 362us/step - loss: 0.5383 - acc: 0.8056 - val_loss: 0.5275 - val_acc: 0.8102\n",
      "Epoch 5/15\n",
      "60000/60000 [==============================] - 22s 372us/step - loss: 0.4840 - acc: 0.8283 - val_loss: 0.5062 - val_acc: 0.8242\n",
      "Epoch 6/15\n",
      "60000/60000 [==============================] - 21s 356us/step - loss: 0.4514 - acc: 0.8402 - val_loss: 0.5754 - val_acc: 0.8086\n",
      "Epoch 7/15\n",
      "60000/60000 [==============================] - 21s 345us/step - loss: 0.4289 - acc: 0.8480 - val_loss: 0.4413 - val_acc: 0.8434\n",
      "Epoch 8/15\n",
      "60000/60000 [==============================] - 21s 347us/step - loss: 0.4112 - acc: 0.8551 - val_loss: 0.4357 - val_acc: 0.8494\n",
      "Epoch 9/15\n",
      "60000/60000 [==============================] - 23s 377us/step - loss: 0.3954 - acc: 0.8601 - val_loss: 0.4198 - val_acc: 0.8524\n",
      "Epoch 10/15\n",
      "60000/60000 [==============================] - 21s 355us/step - loss: 0.3862 - acc: 0.8633 - val_loss: 0.4393 - val_acc: 0.8520\n",
      "Epoch 11/15\n",
      "60000/60000 [==============================] - 21s 342us/step - loss: 0.3710 - acc: 0.8686 - val_loss: 0.4480 - val_acc: 0.8450\n",
      "Epoch 12/15\n",
      "60000/60000 [==============================] - 21s 343us/step - loss: 0.3608 - acc: 0.8724 - val_loss: 0.3955 - val_acc: 0.8606\n",
      "Epoch 13/15\n",
      "60000/60000 [==============================] - 21s 354us/step - loss: 0.3534 - acc: 0.8741 - val_loss: 0.4127 - val_acc: 0.8596\n",
      "Epoch 14/15\n",
      "60000/60000 [==============================] - 23s 379us/step - loss: 0.3433 - acc: 0.8780 - val_loss: 0.3936 - val_acc: 0.8640\n",
      "Epoch 15/15\n",
      "60000/60000 [==============================] - 21s 351us/step - loss: 0.3369 - acc: 0.8796 - val_loss: 0.4464 - val_acc: 0.8416\n",
      "5000/5000 [==============================] - 0s 45us/step\n",
      "Accuracy: 84.16\n",
      "Model: \"sequential_7\"\n",
      "_________________________________________________________________\n",
      "Layer (type)                 Output Shape              Param #   \n",
      "=================================================================\n",
      "dense_31 (Dense)             (None, 200)               157000    \n",
      "_________________________________________________________________\n",
      "dense_32 (Dense)             (None, 160)               32160     \n",
      "_________________________________________________________________\n",
      "dense_33 (Dense)             (None, 128)               20608     \n",
      "_________________________________________________________________\n",
      "dense_34 (Dense)             (None, 64)                8256      \n",
      "_________________________________________________________________\n",
      "dense_35 (Dense)             (None, 10)                650       \n",
      "=================================================================\n",
      "Total params: 218,674\n",
      "Trainable params: 218,674\n",
      "Non-trainable params: 0\n",
      "_________________________________________________________________\n",
      "None\n"
     ]
    }
   ],
   "source": [
    "# Multi Hidden Layer Neural Network using Keras\n",
    "\n",
    "import keras, time\n",
    "from sklearn.model_selection import train_test_split\n",
    "\n",
    "from keras.models import Sequential\n",
    "from keras.layers import Dense\n",
    "\n",
    "\n",
    "model = Sequential()\n",
    "model.add(Dense(200, input_dim=784, activation='sigmoid'))\n",
    "model.add(Dense(160, activation='sigmoid'))\n",
    "model.add(Dense(128, activation='sigmoid'))\n",
    "model.add(Dense(64, activation='sigmoid'))\n",
    "model.add(Dense(10, activation='softmax'))\n",
    "\n",
    "model.compile(loss=keras.losses.categorical_crossentropy,\n",
    "              optimizer=keras.optimizers.SGD(lr=0.1),\n",
    "              metrics=['accuracy'])\n",
    "\n",
    "history = model.fit(X_train, y_train, batch_size=10, epochs=15, verbose=1, validation_data=(X_test, y_test))\n",
    "\n",
    "_, accuracy = model.evaluate(X_test, y_test)\n",
    "print('Accuracy: %.2f' % (accuracy*100))\n",
    "print(model.summary())"
   ]
  },
  {
   "cell_type": "code",
   "execution_count": 24,
   "metadata": {
    "id": "nzyUT56Mn3Dn",
    "colab_type": "code",
    "outputId": "239b0ce7-32c4-46b2-a37f-4696b9b483ee",
    "colab": {
     "base_uri": "https://localhost:8080/",
     "height": 575.0
    }
   },
   "outputs": [
    {
     "data": {
      "image/png": "[encoded data removed]",
      "text/plain": [
       "<Figure size 432x288 with 1 Axes>"
      ]
     },
     "metadata": {
      "tags": []
     },
     "output_type": "display_data"
    },
    {
     "data": {
      "image/png": "[encoded data removed]",
      "text/plain": [
       "<Figure size 432x288 with 1 Axes>"
      ]
     },
     "metadata": {
      "tags": []
     },
     "output_type": "display_data"
    }
   ],
   "source": [
    "plot_history(history)"
   ]
  },
  {
   "cell_type": "code",
   "execution_count": 27,
   "metadata": {
    "id": "pJAbwg0TTHY_",
    "colab_type": "code",
    "outputId": "28797b3c-3fa1-4926-a5e9-72f16d34b354",
    "colab": {
     "base_uri": "https://localhost:8080/",
     "height": 470.0
    }
   },
   "outputs": [
    {
     "name": "stdout",
     "output_type": "stream",
     "text": [
      "[[260   0   6  14   1   0 212   0   4   0]\n",
      " [  1 488   0  12   3   0   5   0   0   0]\n",
      " [  3   0 424   6  17   0  53   0   2   0]\n",
      " [  2   2   1 436   8   1  32   0   4   0]\n",
      " [  0   0 102  21 303   0  70   0   2   0]\n",
      " [  0   0   0   1   0 469   0  14   3   4]\n",
      " [ 12   0  52  13  12   0 425   0   3   0]\n",
      " [  0   0   0   0   0  18   0 467   0   7]\n",
      " [  0   0   1   2   1   3  11   2 476   0]\n",
      " [  0   0   0   0   0  11   0  38   0 460]]\n",
      "              precision    recall  f1-score   support\n",
      "\n",
      "           0       0.94      0.52      0.67       497\n",
      "           1       1.00      0.96      0.98       509\n",
      "           2       0.72      0.84      0.78       505\n",
      "           3       0.86      0.90      0.88       486\n",
      "           4       0.88      0.61      0.72       498\n",
      "           5       0.93      0.96      0.94       491\n",
      "           6       0.53      0.82      0.64       517\n",
      "           7       0.90      0.95      0.92       492\n",
      "           8       0.96      0.96      0.96       496\n",
      "           9       0.98      0.90      0.94       509\n",
      "\n",
      "    accuracy                           0.84      5000\n",
      "   macro avg       0.87      0.84      0.84      5000\n",
      "weighted avg       0.87      0.84      0.84      5000\n",
      "\n"
     ]
    }
   ],
   "source": [
    "y_pred = model.predict(X_test, batch_size=10, verbose=0, steps=None, callbacks=None, max_queue_size=10, workers=1, use_multiprocessing=False)\n",
    "y_pred = np.argmax(y_pred, axis=1)\n",
    "\n",
    "print(confusion_matrix(Y_test, y_pred))\n",
    "print(classification_report(Y_test, y_pred))"
   ]
  },
  {
   "cell_type": "code",
   "execution_count": 0,
   "metadata": {
    "id": "XI6KdUZewjrM",
    "colab_type": "code",
    "colab": {}
   },
   "outputs": [],
   "source": [
    ""
   ]
  },
  {
   "cell_type": "code",
   "execution_count": 0,
   "metadata": {
    "id": "tyBY8KzxUxmV",
    "colab_type": "code",
    "colab": {}
   },
   "outputs": [],
   "source": [
    "# Pre Processing for CNN\n",
    "\n",
    "X_train = X_train.reshape(X_train.shape[0], 28, 28, 1)\n",
    "X_test = X_test.reshape(X_test.shape[0], 28, 28, 1)\n",
    "X_val = X_test.reshape(X_test.shape[0], 28, 28, 1)"
   ]
  },
  {
   "cell_type": "code",
   "execution_count": 30,
   "metadata": {
    "id": "467QpbXUUUTL",
    "colab_type": "code",
    "outputId": "6f3281d6-ade5-45d8-fa87-0fc20a0de150",
    "colab": {
     "base_uri": "https://localhost:8080/",
     "height": 857.0
    }
   },
   "outputs": [
    {
     "name": "stdout",
     "output_type": "stream",
     "text": [
      "Train on 60000 samples, validate on 5000 samples\n",
      "Epoch 1/15\n",
      "60000/60000 [==============================] - 98s 2ms/step - loss: 0.5010 - acc: 0.8124 - val_loss: 0.3864 - val_acc: 0.8548\n",
      "Epoch 2/15\n",
      "60000/60000 [==============================] - 98s 2ms/step - loss: 0.3398 - acc: 0.8757 - val_loss: 0.3754 - val_acc: 0.8580\n",
      "Epoch 3/15\n",
      "60000/60000 [==============================] - 97s 2ms/step - loss: 0.3086 - acc: 0.8851 - val_loss: 0.3639 - val_acc: 0.8692\n",
      "Epoch 4/15\n",
      "60000/60000 [==============================] - 96s 2ms/step - loss: 0.2858 - acc: 0.8934 - val_loss: 0.3354 - val_acc: 0.8754\n",
      "Epoch 5/15\n",
      "60000/60000 [==============================] - 96s 2ms/step - loss: 0.2687 - acc: 0.8991 - val_loss: 0.3602 - val_acc: 0.8758\n",
      "Epoch 6/15\n",
      "60000/60000 [==============================] - 96s 2ms/step - loss: 0.2560 - acc: 0.9029 - val_loss: 0.3296 - val_acc: 0.8808\n",
      "Epoch 7/15\n",
      "60000/60000 [==============================] - 96s 2ms/step - loss: 0.2429 - acc: 0.9092 - val_loss: 0.3283 - val_acc: 0.8866\n",
      "Epoch 8/15\n",
      "60000/60000 [==============================] - 97s 2ms/step - loss: 0.2381 - acc: 0.9097 - val_loss: 0.3301 - val_acc: 0.8804\n",
      "Epoch 9/15\n",
      "60000/60000 [==============================] - 96s 2ms/step - loss: 0.2270 - acc: 0.9147 - val_loss: 0.3496 - val_acc: 0.8792\n",
      "Epoch 10/15\n",
      "60000/60000 [==============================] - 96s 2ms/step - loss: 0.2186 - acc: 0.9178 - val_loss: 0.3562 - val_acc: 0.8840\n",
      "Epoch 11/15\n",
      "60000/60000 [==============================] - 97s 2ms/step - loss: 0.2163 - acc: 0.9199 - val_loss: 0.3668 - val_acc: 0.8748\n",
      "Epoch 12/15\n",
      "60000/60000 [==============================] - 95s 2ms/step - loss: 0.2101 - acc: 0.9224 - val_loss: 0.3513 - val_acc: 0.8868\n",
      "Epoch 13/15\n",
      "60000/60000 [==============================] - 96s 2ms/step - loss: 0.2069 - acc: 0.9237 - val_loss: 0.3910 - val_acc: 0.8810\n",
      "Epoch 14/15\n",
      "60000/60000 [==============================] - 95s 2ms/step - loss: 0.1993 - acc: 0.9251 - val_loss: 0.4425 - val_acc: 0.8636\n",
      "Epoch 15/15\n",
      "60000/60000 [==============================] - 95s 2ms/step - loss: 0.1987 - acc: 0.9274 - val_loss: 0.4063 - val_acc: 0.8830\n",
      "Model: \"sequential_7\"\n",
      "_________________________________________________________________\n",
      "Layer (type)                 Output Shape              Param #   \n",
      "=================================================================\n",
      "dense_31 (Dense)             (None, 200)               157000    \n",
      "_________________________________________________________________\n",
      "dense_32 (Dense)             (None, 160)               32160     \n",
      "_________________________________________________________________\n",
      "dense_33 (Dense)             (None, 128)               20608     \n",
      "_________________________________________________________________\n",
      "dense_34 (Dense)             (None, 64)                8256      \n",
      "_________________________________________________________________\n",
      "dense_35 (Dense)             (None, 10)                650       \n",
      "=================================================================\n",
      "Total params: 218,674\n",
      "Trainable params: 218,674\n",
      "Non-trainable params: 0\n",
      "_________________________________________________________________\n",
      "None\n"
     ]
    }
   ],
   "source": [
    "# CNN using Keras\n",
    "\n",
    "from keras.layers.convolutional import Conv2D\n",
    "from keras.layers import MaxPooling2D\n",
    "from keras.layers import Dense, Dropout, Activation, Flatten\n",
    "import tensorflow as tf\n",
    "\n",
    "tf.model = Sequential()\n",
    "tf.model.add(Conv2D(32, kernel_size=(3, 3),activation='relu',input_shape=(28,28,1)))\n",
    "tf.model.add(MaxPooling2D(pool_size=(2, 2), strides=(2, 2)))\n",
    "tf.model.add(Conv2D(64, (5, 5), activation='relu'))\n",
    "tf.model.add(MaxPooling2D(pool_size=(2, 2)))\n",
    "tf.model.add(Flatten())\n",
    "tf.model.add(Dense(100, activation='relu'))\n",
    "tf.model.add(Dense(10, activation='softmax'))\n",
    "\n",
    "tf.model.compile(loss=keras.losses.categorical_crossentropy, optimizer=keras.optimizers.SGD(lr=0.1), metrics=['accuracy'])\n",
    "\n",
    "history = tf.model.fit(X_train, y_train, batch_size=10, epochs=15, verbose=1, validation_data=(X_test, y_test))\n",
    "\n",
    "print(model.summary())"
   ]
  },
  {
   "cell_type": "code",
   "execution_count": 31,
   "metadata": {
    "id": "d97kbYGan4nd",
    "colab_type": "code",
    "outputId": "378c6350-0aa6-4523-b319-a64e169d91aa",
    "colab": {
     "base_uri": "https://localhost:8080/",
     "height": 575.0
    }
   },
   "outputs": [
    {
     "data": {
      "image/png": "[encoded data removed]",
      "text/plain": [
       "<Figure size 432x288 with 1 Axes>"
      ]
     },
     "metadata": {
      "tags": []
     },
     "output_type": "display_data"
    },
    {
     "data": {
      "image/png": "[encoded data removed]",
      "text/plain": [
       "<Figure size 432x288 with 1 Axes>"
      ]
     },
     "metadata": {
      "tags": []
     },
     "output_type": "display_data"
    }
   ],
   "source": [
    "plot_history(history)"
   ]
  },
  {
   "cell_type": "code",
   "execution_count": 33,
   "metadata": {
    "id": "tYw1sn00Uk9v",
    "colab_type": "code",
    "outputId": "91e9c4a4-57df-4f9e-9049-670d83edbb11",
    "colab": {
     "base_uri": "https://localhost:8080/",
     "height": 470.0
    }
   },
   "outputs": [
    {
     "name": "stdout",
     "output_type": "stream",
     "text": [
      "[[350   1  10  21   1   0 109   0   5   0]\n",
      " [  0 498   0   7   2   0   2   0   0   0]\n",
      " [  9   1 408   8  39   1  39   0   0   0]\n",
      " [  4   3   6 445  19   0   7   1   1   0]\n",
      " [  0   0  30  11 427   0  30   0   0   0]\n",
      " [  1   0   0   0   0 478   0  12   0   0]\n",
      " [ 29   3  33  20  58   1 367   0   6   0]\n",
      " [  0   0   0   0   0   6   0 472   0  14]\n",
      " [  2   1   2   1   2   0   5   3 480   0]\n",
      " [  0   0   0   0   0   1   0  17   1 490]]\n",
      "              precision    recall  f1-score   support\n",
      "\n",
      "           0       0.89      0.70      0.78       497\n",
      "           1       0.98      0.98      0.98       509\n",
      "           2       0.83      0.81      0.82       505\n",
      "           3       0.87      0.92      0.89       486\n",
      "           4       0.78      0.86      0.82       498\n",
      "           5       0.98      0.97      0.98       491\n",
      "           6       0.66      0.71      0.68       517\n",
      "           7       0.93      0.96      0.95       492\n",
      "           8       0.97      0.97      0.97       496\n",
      "           9       0.97      0.96      0.97       509\n",
      "\n",
      "    accuracy                           0.88      5000\n",
      "   macro avg       0.89      0.88      0.88      5000\n",
      "weighted avg       0.89      0.88      0.88      5000\n",
      "\n"
     ]
    }
   ],
   "source": [
    "y_pred = tf.model.predict(X_test, batch_size=10, verbose=0, steps=None, callbacks=None, max_queue_size=10, workers=1, use_multiprocessing=False)\n",
    "y_pred = np.argmax(y_pred, axis=1)\n",
    "\n",
    "print(confusion_matrix(Y_test, y_pred))\n",
    "print(classification_report(Y_test, y_pred))"
   ]
  }
 ],
 "metadata": {
  "colab": {
   "name": "main.ipynb",
   "provenance": [],
   "collapsed_sections": []
  },
  "kernelspec": {
   "name": "python3",
   "display_name": "Python 3"
  }
 },
 "nbformat": 4,
 "nbformat_minor": 0
}
